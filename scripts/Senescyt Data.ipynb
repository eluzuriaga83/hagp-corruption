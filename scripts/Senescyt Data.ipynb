{
 "cells": [
  {
   "cell_type": "code",
   "execution_count": null,
   "metadata": {},
   "outputs": [],
   "source": [
    "import pandas as pd\n",
    "import urllib.request\n",
    "from selenium import webdriver\n",
    "from selenium.webdriver.support.ui import Select\n",
    "from selenium.webdriver.support.select import Select \n",
    "from selenium.webdriver.common.by import By\n",
    "from selenium.webdriver.chrome.options import Options\n",
    "from time import sleep\n",
    "from python_anticaptcha import AnticaptchaClient, ImageToTextTask\n",
    "import os\n",
    "from datetime import datetime\n",
    "from PIL import Image\n",
    "import requests\n",
    "import dateparser"
   ]
  },
  {
   "cell_type": "code",
   "execution_count": null,
   "metadata": {},
   "outputs": [],
   "source": [
    "from os import listdir\n",
    "import pandas as pd\n",
    "import numpy as np\n",
    "filepaths = [f for f in listdir(\"./\") if f.endswith('-clean.csv')]\n",
    "df = pd.concat(map(pd.read_csv, filepaths))\n",
    "cedulas = df.Cedula.unique();\n",
    "cedulas = cedulas[np.logical_not(np.isnan(cedulas))]\n",
    "exclude = [926246299\n",
    "913637013,\n",
    "918858507,\n",
    "909386468,\n",
    "929800514,\n",
    "907575419,\n",
    "1312320375,\n",
    "918638511,\n",
    "802373670,\n",
    "915892012,\n",
    "927915355,\n",
    "913553335,\n",
    "905581039,\n",
    "917338535,\n",
    "1308519949,\n",
    "922328331,\n",
    "922866751,\n",
    "916254998,\n",
    "914150693,\n",
    "918436270,\n",
    "923516926,\n",
    "914730726,\n",
    "919984542,\n",
    "920107661,\n",
    "926688730,\n",
    "923025217,\n",
    "916524853,\n",
    "909428435,\n",
    "950832683,\n",
    "104476122,\n",
    "1315983104,\n",
    "951320381,\n",
    "930874268,\n",
    "918457078,\n",
    "953819448,\n",
    "912661923,\n",
    "920524501,\n",
    "920049889,\n",
    "923044713,\n",
    "958516601,\n",
    "917966467,\n",
    "928940493,\n",
    "915069660,\n",
    "912616406,\n",
    "956616676,\n",
    "923289664,\n",
    "1309853727,\n",
    "963065669,\n",
    "922042825,\n",
    "959201948]\n",
    "print(len(cedulas))\n",
    "cedulas = cedulas - np.array(exclude)\n",
    "print(len(cedulas))"
   ]
  },
  {
   "cell_type": "code",
   "execution_count": 18,
   "metadata": {},
   "outputs": [
    {
     "ename": "NameError",
     "evalue": "name 'x' is not defined",
     "output_type": "error",
     "traceback": [
      "\u001b[0;31m---------------------------------------------------------------------------\u001b[0m",
      "\u001b[0;31mNameError\u001b[0m                                 Traceback (most recent call last)",
      "\u001b[0;32m<ipython-input-18-6bb9b325bd09>\u001b[0m in \u001b[0;36m<module>\u001b[0;34m\u001b[0m\n\u001b[1;32m     16\u001b[0m \u001b[0mlocation\u001b[0m \u001b[0;34m=\u001b[0m \u001b[0mimgCaptcha\u001b[0m\u001b[0;34m.\u001b[0m\u001b[0mlocation\u001b[0m\u001b[0;34m\u001b[0m\u001b[0;34m\u001b[0m\u001b[0m\n\u001b[1;32m     17\u001b[0m \u001b[0msize\u001b[0m \u001b[0;34m=\u001b[0m \u001b[0mimgCaptcha\u001b[0m\u001b[0;34m.\u001b[0m\u001b[0msize\u001b[0m\u001b[0;34m\u001b[0m\u001b[0;34m\u001b[0m\u001b[0m\n\u001b[0;32m---> 18\u001b[0;31m \u001b[0murlScreenshot\u001b[0m \u001b[0;34m=\u001b[0m \u001b[0;34m\"screenshot-\"\u001b[0m\u001b[0;34m+\u001b[0m \u001b[0mstr\u001b[0m\u001b[0;34m(\u001b[0m\u001b[0mx\u001b[0m \u001b[0;34m+\u001b[0m \u001b[0;36m1\u001b[0m\u001b[0;34m)\u001b[0m \u001b[0;34m+\u001b[0m \u001b[0;34m\".png\"\u001b[0m\u001b[0;34m\u001b[0m\u001b[0;34m\u001b[0m\u001b[0m\n\u001b[0m\u001b[1;32m     19\u001b[0m \u001b[0;34m\u001b[0m\u001b[0m\n\u001b[1;32m     20\u001b[0m \u001b[0;32mif\u001b[0m \u001b[0mos\u001b[0m\u001b[0;34m.\u001b[0m\u001b[0mpath\u001b[0m\u001b[0;34m.\u001b[0m\u001b[0mexists\u001b[0m\u001b[0;34m(\u001b[0m\u001b[0murlScreenshot\u001b[0m\u001b[0;34m)\u001b[0m\u001b[0;34m:\u001b[0m\u001b[0;34m\u001b[0m\u001b[0;34m\u001b[0m\u001b[0m\n",
      "\u001b[0;31mNameError\u001b[0m: name 'x' is not defined"
     ]
    }
   ],
   "source": [
    "options = Options()\n",
    "options.add_experimental_option('excludeSwitches', ['enable-logging'])\n",
    "#options.add_argument(\"--headless\")\n",
    "my_driver = webdriver.Chrome(options=options,executable_path=r'./chromedriver 3')\n",
    "url = 'https://www.senescyt.gob.ec/web/guest/consultas'\n",
    "my_driver.get(url)  # Abrir una nueva instancia del browser\n",
    "my_driver.maximize_window()\n",
    "# storing the current window handle to get back to dashbord \n",
    "mainPage = my_driver.current_window_handle \n",
    "\n",
    "textField = my_driver.find_element_by_xpath(\"/html/body/div[1]/div/div[2]/main/form/div/div[2]/div/div/div[1]/table/tbody/tr[4]/td/input\") \n",
    "textField.send_keys(\"0922604681\") \n",
    "\n",
    "\n",
    "imgCaptcha = my_driver.find_element_by_xpath(\"/html/body/div[1]/div/div[2]/main/form/div/div[2]/div/div/div[1]/table/tbody/tr[6]/td/div/div/div[1]/div[1]/img\")\n",
    "location = imgCaptcha.location\n",
    "size = imgCaptcha.size\n",
    "urlScreenshot = \"screenshot-\"+ str(x + 1) + \".png\"\n",
    "    \n",
    "if os.path.exists(urlScreenshot):\n",
    "    os.remove(urlScreenshot)\n",
    "my_driver.save_screenshot(urlScreenshot)"
   ]
  },
  {
   "cell_type": "code",
   "execution_count": null,
   "metadata": {},
   "outputs": [],
   "source": []
  },
  {
   "cell_type": "code",
   "execution_count": null,
   "metadata": {},
   "outputs": [],
   "source": []
  }
 ],
 "metadata": {
  "kernelspec": {
   "display_name": "Python 3",
   "language": "python",
   "name": "python3"
  },
  "language_info": {
   "codemirror_mode": {
    "name": "ipython",
    "version": 3
   },
   "file_extension": ".py",
   "mimetype": "text/x-python",
   "name": "python",
   "nbconvert_exporter": "python",
   "pygments_lexer": "ipython3",
   "version": "3.8.3"
  }
 },
 "nbformat": 4,
 "nbformat_minor": 4
}
