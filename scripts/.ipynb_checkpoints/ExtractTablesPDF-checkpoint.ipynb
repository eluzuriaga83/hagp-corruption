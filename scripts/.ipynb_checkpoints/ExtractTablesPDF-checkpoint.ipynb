{
 "cells": [
  {
   "cell_type": "code",
   "execution_count": 1,
   "metadata": {
    "scrolled": true
   },
   "outputs": [],
   "source": [
    "import tabula\n",
    "import numpy as np\n",
    "#Read pdf into list of DataFrame\n",
    "        \n",
    "    \n",
    "def replace_characters(x):\n",
    "    try: \n",
    "        return x.replace('\\r', ' ').replace('$', ' ').replace(\".\",\"\",x.count(\".\") - 1).strip()\n",
    "    except AttributeError:\n",
    "        return np.NaN\n",
    "\n",
    "def processRemuneracionMensualPorPuesto2020_2(file,outputfile,fecha):\n",
    "    pages = tabula.read_pdf(file, pages='all')\n",
    "    for index, page in enumerate(pages):\n",
    "        page_data = page\n",
    "        # Check if it is the last page. If it is last page, remove last rows (the last rows does not hold any valuable data)\n",
    "        if index == (len(pages)-1):\n",
    "            maxFilas = page_data.shape[0]\n",
    "            page_data = page_data[0:maxFilas-7]\n",
    "                                    \n",
    "        # Clean the data\n",
    "        if not page_data.empty:\n",
    "            columns = page_data.columns\n",
    "\n",
    "            for column in columns:\n",
    "                page_data.loc[column] = page_data[column].apply(lambda x : replace_characters(x))\n",
    "\n",
    "            \n",
    "            page_data.drop([columns[0]], axis=1)\n",
    "            page_data.insert(0, 'fecha', fecha) \n",
    "            #Remove header\n",
    "            page_data.to_csv(outputfile,mode='a',index = False, header=False)\n",
    "            "
   ]
  },
  {
   "cell_type": "code",
   "execution_count": 2,
   "metadata": {
    "scrolled": true
   },
   "outputs": [],
   "source": [
    "import os\n",
    "\n",
    "path = './hagp'\n",
    "\n",
    "files = []\n",
    "# r=root, d=directories, f = files\n",
    "filesDict = {}\n",
    "for r, d, f in os.walk(path):\n",
    "    if len(d):\n",
    "         #filesDict = {'2017':{},'2018':{}}\n",
    "        for directory in d:\n",
    "            filesDict[directory] = {}\n",
    "    for file in f:\n",
    "        if '.pdf' in file:\n",
    "            #\"remuneracion_mensual-FEBRERO-2020.pdf\"\n",
    "            if file.startswith(\"remuneracion_mensual\"):\n",
    "                #remuneracion_mensual-FEBRERO-2020 -> \n",
    "                # [remuneracion_mensual,FEBRERO,2020]\n",
    "                data = file.replace(\".pdf\",\"\").split(\"-\");\n",
    "                filesDict[data[2]][data[1]] = os.path.join(r, file)\n",
    "                "
   ]
  },
  {
   "cell_type": "code",
   "execution_count": 3,
   "metadata": {
    "scrolled": false
   },
   "outputs": [
    {
     "name": "stdout",
     "output_type": "stream",
     "text": [
      "2017-OCTUBRE-01\n"
     ]
    },
    {
     "ename": "AttributeError",
     "evalue": "'NoneType' object has no attribute 'to_csv'",
     "output_type": "error",
     "traceback": [
      "\u001b[0;31m---------------------------------------------------------------------------\u001b[0m",
      "\u001b[0;31mAttributeError\u001b[0m                            Traceback (most recent call last)",
      "\u001b[0;32m<ipython-input-3-1fd8795b3ca1>\u001b[0m in \u001b[0;36m<module>\u001b[0;34m\u001b[0m\n\u001b[1;32m      6\u001b[0m         \u001b[0mmonth\u001b[0m \u001b[0;34m=\u001b[0m \u001b[0myear\u001b[0m\u001b[0;34m[\u001b[0m\u001b[0mkey2\u001b[0m\u001b[0;34m]\u001b[0m\u001b[0;34m\u001b[0m\u001b[0;34m\u001b[0m\u001b[0m\n\u001b[1;32m      7\u001b[0m         \u001b[0mprint\u001b[0m\u001b[0;34m(\u001b[0m\u001b[0mfecha\u001b[0m\u001b[0;34m)\u001b[0m\u001b[0;34m\u001b[0m\u001b[0;34m\u001b[0m\u001b[0m\n\u001b[0;32m----> 8\u001b[0;31m         \u001b[0mprocessRemuneracionMensualPorPuesto2020_2\u001b[0m\u001b[0;34m(\u001b[0m\u001b[0mmonth\u001b[0m\u001b[0;34m,\u001b[0m\u001b[0moutput\u001b[0m\u001b[0;34m,\u001b[0m \u001b[0mfecha\u001b[0m\u001b[0;34m)\u001b[0m\u001b[0;34m;\u001b[0m\u001b[0;34m\u001b[0m\u001b[0;34m\u001b[0m\u001b[0m\n\u001b[0m",
      "\u001b[0;32m<ipython-input-1-0cdba6cca8a5>\u001b[0m in \u001b[0;36mprocessRemuneracionMensualPorPuesto2020_2\u001b[0;34m(file, outputfile, fecha)\u001b[0m\n\u001b[1;32m     30\u001b[0m             \u001b[0mpage_data\u001b[0m \u001b[0;34m=\u001b[0m \u001b[0mpage_data\u001b[0m\u001b[0;34m.\u001b[0m\u001b[0minsert\u001b[0m\u001b[0;34m(\u001b[0m\u001b[0;36m0\u001b[0m\u001b[0;34m,\u001b[0m \u001b[0;34m'fecha'\u001b[0m\u001b[0;34m,\u001b[0m \u001b[0mfecha\u001b[0m\u001b[0;34m)\u001b[0m\u001b[0;34m\u001b[0m\u001b[0;34m\u001b[0m\u001b[0m\n\u001b[1;32m     31\u001b[0m             \u001b[0;31m#Remove header\u001b[0m\u001b[0;34m\u001b[0m\u001b[0;34m\u001b[0m\u001b[0;34m\u001b[0m\u001b[0m\n\u001b[0;32m---> 32\u001b[0;31m             \u001b[0mpage_data\u001b[0m\u001b[0;34m.\u001b[0m\u001b[0mto_csv\u001b[0m\u001b[0;34m(\u001b[0m\u001b[0moutputfile\u001b[0m\u001b[0;34m,\u001b[0m\u001b[0mmode\u001b[0m\u001b[0;34m=\u001b[0m\u001b[0;34m'a'\u001b[0m\u001b[0;34m,\u001b[0m\u001b[0mindex\u001b[0m \u001b[0;34m=\u001b[0m \u001b[0;32mFalse\u001b[0m\u001b[0;34m,\u001b[0m \u001b[0mheader\u001b[0m\u001b[0;34m=\u001b[0m\u001b[0;32mFalse\u001b[0m\u001b[0;34m)\u001b[0m\u001b[0;34m\u001b[0m\u001b[0;34m\u001b[0m\u001b[0m\n\u001b[0m\u001b[1;32m     33\u001b[0m \u001b[0;34m\u001b[0m\u001b[0m\n",
      "\u001b[0;31mAttributeError\u001b[0m: 'NoneType' object has no attribute 'to_csv'"
     ]
    }
   ],
   "source": [
    "for key in filesDict:\n",
    "    output = 'remuneracion_mensual-'+key+'.csv'\n",
    "    year = filesDict[key]\n",
    "    for key2 in year:\n",
    "        fecha = key+'-'+key2+'-01'\n",
    "        month = year[key2]\n",
    "        print(fecha)\n",
    "        processRemuneracionMensualPorPuesto2020_2(month,output, fecha);"
   ]
  },
  {
   "cell_type": "code",
   "execution_count": null,
   "metadata": {},
   "outputs": [],
   "source": []
  }
 ],
 "metadata": {
  "kernelspec": {
   "display_name": "Python 3",
   "language": "python",
   "name": "python3"
  },
  "language_info": {
   "codemirror_mode": {
    "name": "ipython",
    "version": 3
   },
   "file_extension": ".py",
   "mimetype": "text/x-python",
   "name": "python",
   "nbconvert_exporter": "python",
   "pygments_lexer": "ipython3",
   "version": "3.8.3"
  }
 },
 "nbformat": 4,
 "nbformat_minor": 4
}
