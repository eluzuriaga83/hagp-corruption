{
 "cells": [
  {
   "cell_type": "code",
   "execution_count": 7,
   "metadata": {},
   "outputs": [],
   "source": [
    "import pandas as pd\n",
    "import urllib.request\n",
    "from selenium import webdriver\n",
    "from selenium.webdriver.support.ui import Select\n",
    "from selenium.webdriver.support.select import Select \n",
    "from selenium.webdriver.common.by import By\n",
    "from selenium.webdriver.chrome.options import Options\n",
    "from time import sleep\n",
    "from python_anticaptcha import AnticaptchaClient, ImageToTextTask\n",
    "import os\n",
    "from datetime import datetime\n",
    "from PIL import Image\n",
    "import requests\n",
    "import dateparser"
   ]
  },
  {
   "cell_type": "code",
   "execution_count": 16,
   "metadata": {},
   "outputs": [],
   "source": [
    "options = Options()\n",
    "options.add_experimental_option('excludeSwitches', ['enable-logging'])\n",
    "#options.add_argument(\"--headless\")\n",
    "my_driver = webdriver.Chrome(options=options,executable_path=r'./chromedriver 3')\n",
    "url = 'https://www.senescyt.gob.ec/web/guest/consultas'\n",
    "my_driver.get(url)  # Abrir una nueva instancia del browser\n",
    "my_driver.maximize_window()\n",
    "# storing the current window handle to get back to dashbord \n",
    "mainPage = my_driver.current_window_handle \n",
    "\n",
    "textField = my_driver.find_element_by_xpath(\"/html/body/div[1]/div/div[2]/main/form/div/div[2]/div/div/div[1]/table/tbody/tr[4]/td/input\") \n",
    "textField.send_keys(\"0922604681\") \n",
    "\n",
    "\n",
    "imgCaptcha = my_driver.find_element_by_xpath(\"/html/body/div[1]/div/div[2]/main/form/div/div[2]/div/div/div[1]/table/tbody/tr[6]/td/div/div/div[1]/div[1]/img\")\n",
    "location = imgCaptcha.location\n",
    "size = imgCaptcha.size\n",
    "urlScreenshot = \"screenshot-\"+ str(x + 1) + \".png\"\n",
    "    \n",
    "if os.path.exists(urlScreenshot):\n",
    "    os.remove(urlScreenshot)\n",
    "driver.save_screenshot(urlScreenshot)"
   ]
  },
  {
   "cell_type": "code",
   "execution_count": null,
   "metadata": {},
   "outputs": [],
   "source": []
  },
  {
   "cell_type": "code",
   "execution_count": null,
   "metadata": {},
   "outputs": [],
   "source": []
  }
 ],
 "metadata": {
  "kernelspec": {
   "display_name": "Python 3",
   "language": "python",
   "name": "python3"
  },
  "language_info": {
   "codemirror_mode": {
    "name": "ipython",
    "version": 3
   },
   "file_extension": ".py",
   "mimetype": "text/x-python",
   "name": "python",
   "nbconvert_exporter": "python",
   "pygments_lexer": "ipython3",
   "version": "3.8.3"
  }
 },
 "nbformat": 4,
 "nbformat_minor": 4
}
