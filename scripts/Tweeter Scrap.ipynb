{
 "cells": [
  {
   "cell_type": "code",
   "execution_count": 11,
   "metadata": {},
   "outputs": [
    {
     "name": "stdout",
     "output_type": "stream",
     "text": [
      "#Ciudadanizando Participación ciudadana y #combate a la #corrupción en la @Agenda2030MX #Xalapa #Veracruz #QuedateEnCasa #CPCVeracruz\n",
      "https://www.youtube.com/watch?v=KPBEZn2UtzQ&feature=youtu.be …\n",
      "La #4T no existe. #AMLo y #Morena son solamente una versión más del #PRI. Misma #corrupcion de siempre. #Lozoya no pisa la cárcel. A alguien le sorprende? https://www.eluniversal.com.mx/nacion/politica/lozoya-no-pisa-la-carcel-es-testigo-protegido?fbclid=IwAR3-tRLxjPQWv4CAzBEQDnsi9Oi-kU_yoNbEfBU6i-LH74erSL4BKp6wscc …\n",
      "#NarcoEstado #Corrupcion #Colombia https://twitter.com/JuanMartinCalv5/status/1285938006629724161 …\n",
      "#ExpresionEsLibertad made in #leninmoreno #elpeorgobiernodelahistoria millones en #pauta para tapar #Corrupcion y reparto d hospitales,#elpeorgobiernodelahistoria no pagan a enfermeros y doctores y profesores pero para #tenedores d deuda los tienen al día #sinverguenza #inapapers pic.twitter.com/3FZkjiFUzH\n",
      "#Ciudadanizando Participación ciudadana y #combate a la #corrupción en la @Agenda2030MX #Xalapa #Veracruz\n",
      "https://youtu.be/KPBEZn2UtzQ \n",
      "\"¿Cómo hemos llegado hasta este extremo? La #corrupcion se expande por los circuitos de la degradación ética y de la impunidad\": @JusticiayPazEcu https://bit.ly/3hkpGDw pic.twitter.com/uskc0EYxim\n",
      "\"La #Corrupción tiene altos costos sociales y económicos para el país: esta práctica erosiona la democracia y fractura la vigencia del Estado de derecho.\n",
      "\n",
      "Lee a @MarioLFuentes1 en: https://bit.ly/2n5a8wV \"\n",
      "#LibertadDeExpresion made in @Lenin #elpeorgobiernodelahistoria tapar #corrupcion y reparto d hospitales miles.dolares en #pauta a #prensaecuatoriana #corrupta #periodismoecuatoriano #corrupto #periodistasecuatorianos pautados m olvidaba puestos n embajada a hijo de @diegooquendo pic.twitter.com/Onr6lQ8Cqj\n",
      "Parece que el nombre culiao de martin es mufa...#MartinLarrain #MartinPradenasDurr los dos casos con muestra de #Corrupcion y #TraficoDeInfluencias\n",
      "Y sigue saliendo a la luz la #Corrupcion de los Moreira en #Coahuila. Chequen como una persona puede tener tanto de donde sacar, en fin, los Moreira https://twitter.com/ATiempoTv/status/1285987881874382853 …\n",
      " «El 62% de los peruanos consideramos a la corrupción como el segundo problema en nuestro país, después de la inseguridad.»\n",
      "\n",
      "Angélica Escudero de Ethics asegura que todo acto de #corrupción afecta la competitividad de las empresas al tener una consecuencia directa o indirecta. pic.twitter.com/JOAd25U2N9\n",
      "#México: No se ve bien que todos los firmantes de un acuerdo sobre una #reforma de #pensiones sean solo hombres. Éste machismo es de #ElCacas\n",
      "\n",
      "Por toda esta #corrupción, #niunvotoparamorenaen2021 https://www.instagram.com/p/CC8-2uLD1RF/?igshid=1slvyblc7zjxv …\n",
      "#Corrupcion x todos lados. Zavala, Nieto Montesinos, @MartinVizcarraC\n",
      "@MecheAF @ppkamigo toda una banda. #Odebrecht corrumpio todos los niveles del Estado. Aparece en cualquier accion q deseamos hacer.\n",
      "\n",
      "https://m.facebook.com/story.php?story_fbid=10222299321248568&id=1132430269&notif_t=close_friend_activity&notif_id=1595423623854972&ref=m_notif …\n",
      "#Actualidad #FCF #Corrupción\n",
      "\n",
      "Los funcionarios que actualmente están activos en la institución y que podrían verse perjudicados son: El presidente de la Federación, Ramón Jesurún y el presidente de la Difútbol, Álvaro González Alzate.\n",
      "https://www.momento24.co/exigen-fcf-abrir-investigacion-venta-boletas/ …\n",
      "Continuem cap a Bingo. #monarquia #Corrupcion #campechano https://twitter.com/elconfidencial/status/1285795343989215232 …\n",
      "«La corrupción genera costos para las empresas y merma su competitividad».- @Jacobo_Pastor_G de @ocdeenespanol, ejemplifica también cómo la #corrupción es la puerta de entrada del crimen organizado a las instituciones del Estado.  pic.twitter.com/7kVvizZxlj\n",
      "Revisa la investigación completa de \"La basura de la corrupción en tiempos de Moreira\" de ATiempoTv y @elmemoflores en https://atiempo.tv/2020/07/22/la-basura-de-la-corrupcion/ …\n",
      "#Coahuila #Saltillo #Investigación #Corrupción #Moreira #PRI\n",
      "Amistad entre #Videgaray y #Lozoya terminó mal a pesar de ser claros cómplices en #corrupción de #Pemex\n",
      "\n",
      "¿Será que uno robó más y al otro no le gustó? \n",
      "\n",
      " http://vidaenmex.blogspot.com/2020/07/amistad-entre-videgaray-y-lozoya.html … pic.twitter.com/aIXiTRWutX\n",
      "A un año de la histórica marcha que contribuyó a sacar a @ricardorossello de @fortalezapr, aún queda mucho por hacer pues sigue en el poder #ElMismoGobierno de la #corrupción. pic.twitter.com/PFZeDhoJh7\n",
      "Perdón presidente @alferdez usted acaba de apretar a una periodista?? #infectadura #Independencia #Cobarde #CORRUPCION #Argentina https://twitter.com/santosjorgeh/status/1285968822588051457 …\n"
     ]
    }
   ],
   "source": [
    "from twitter_scraper import get_tweets\n",
    "for tweet in get_tweets('#corrupcion', pages=1):\n",
    "    print(tweet['text'])"
   ]
  },
  {
   "cell_type": "code",
   "execution_count": null,
   "metadata": {},
   "outputs": [],
   "source": []
  }
 ],
 "metadata": {
  "kernelspec": {
   "display_name": "Python 3",
   "language": "python",
   "name": "python3"
  },
  "language_info": {
   "codemirror_mode": {
    "name": "ipython",
    "version": 3
   },
   "file_extension": ".py",
   "mimetype": "text/x-python",
   "name": "python",
   "nbconvert_exporter": "python",
   "pygments_lexer": "ipython3",
   "version": "3.8.3"
  }
 },
 "nbformat": 4,
 "nbformat_minor": 4
}
