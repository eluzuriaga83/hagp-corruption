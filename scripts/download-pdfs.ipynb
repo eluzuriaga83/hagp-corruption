{
  "cells": [
    {
      "cell_type": "code",
      "metadata": {},
      "source": [
        "#This program download the pdfs from the urls that we got running the program get-urls \n",
        "\n",
        "import pandas as pd\n",
        "import gdown\n",
        "import re\n",
        "from urllib.parse import urlsplit\n",
        "\n",
        "data = pd.read_csv('D:\\ICD\\proyecto\\pdfurls.csv') \n",
        "\n",
        "def main():\n",
        "\n",
        "    for index, row in data.iterrows():\n",
        "        year = row[\"year\"]\n",
        "        month = row[\"month\"]\n",
        "\n",
        "        download_PDF(year, month, \"distributivo_personal\", row[\"distributivo_personal\"])   \n",
        "        download_PDF(year, month, \"remuneracion_mensual\", row[\"remuneracion_mensual\"])   \n",
        "        download_PDF(year, month, \"procesos_contrataciones\", row[\"procesos_contrataciones\"])            \n",
        "\n",
        "    \n",
        "\n",
        "def clear_Link(url):\n",
        "    r1 = urlsplit(url)\n",
        "    \n",
        "    if r1.path == '/open':\n",
        "        url = url.replace(\"open\", \"uc\")\n",
        "       \n",
        "    else:\n",
        "        url = 'https://drive.google.com/uc?id='\n",
        "        path = r1.path.split(\"/\")\n",
        "        \n",
        "        for symbol in path:\n",
        "            if '1' in symbol or '0' in symbol:\n",
        "              id= symbol\n",
        "              url = url + id\n",
        "\n",
        "    return url\n",
        "\n",
        "def download_PDF(year, month, name, pdflink):\n",
        "    pdfLink = clear_Link(pdflink)\n",
        "    #name = re.sub('[^A-Za-z0-9]+', '', reg.columns[index])\n",
        "    \n",
        "    output = r\"D:\\ICD\\hagp\"+ \"/\" + str(year) + \"/\" + name + \"-\" + str(month) + \"-\" + str(year) + \".pdf\"\n",
        "    gdown.download(pdfLink, output, quiet=False) \n",
        "\n",
        "if __name__ == \"__main__\":\n",
        "    main()"
      ],
      "outputs": [],
      "execution_count": null
    }
  ],
  "metadata": {
    "anaconda-cloud": {},
    "kernelspec": {
      "display_name": "Python 3",
      "language": "python",
      "name": "python3"
    },
    "language_info": {
      "codemirror_mode": {
        "name": "ipython",
        "version": 3
      },
      "file_extension": ".py",
      "mimetype": "text/x-python",
      "name": "python",
      "nbconvert_exporter": "python",
      "pygments_lexer": "ipython3",
      "version": "3.6.1"
    }
  },
  "nbformat": 4,
  "nbformat_minor": 4
}