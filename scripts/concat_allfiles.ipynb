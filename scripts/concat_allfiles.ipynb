{
  "cells": [
    {
      "cell_type": "code",
      "metadata": {},
      "source": [
        "import os\n",
        "import glob\n",
        "import pandas as pd\n",
        "\n",
        "#This function concat all the files related to contracts type Regimen Especial and Subasta Inversas electr\u00f3nica\n",
        "def concatCSV():\n",
        "            \n",
        "     #os.chdir(\"D:/hagp/Data/\"+year)\n",
        "\n",
        "     dirFile = \"D:\\hagp\\data-final\"\n",
        "     os.chdir(dirFile)\n",
        "     extension = 'csv'\n",
        "     all_filenames = [i for i in (glob.glob('*.{}'.format(extension)))]\n",
        "     \n",
        "     combinedCsv = pd.concat([pd.read_csv(f, converters={'Ruc': lambda x: str(x)}) for f in all_filenames ])\n",
        "     #combine all files in the list\n",
        "     columns = combinedCsv.columns\n",
        "     combinedCsv = combinedCsv.drop([columns[0]], axis=1)\n",
        "     combinedCsv.to_csv( \"D:/hagp/data-final/contratos-unificado.csv\")#, encoding='utf-8-sig')\n",
        "\n",
        "concatCSV()"
      ],
      "outputs": [],
      "execution_count": null
    }
  ],
  "metadata": {
    "anaconda-cloud": {},
    "kernelspec": {
      "display_name": "Python 3",
      "language": "python",
      "name": "python3"
    },
    "language_info": {
      "codemirror_mode": {
        "name": "ipython",
        "version": 3
      },
      "file_extension": ".py",
      "mimetype": "text/x-python",
      "name": "python",
      "nbconvert_exporter": "python",
      "pygments_lexer": "ipython3",
      "version": "3.6.1"
    }
  },
  "nbformat": 4,
  "nbformat_minor": 4
}