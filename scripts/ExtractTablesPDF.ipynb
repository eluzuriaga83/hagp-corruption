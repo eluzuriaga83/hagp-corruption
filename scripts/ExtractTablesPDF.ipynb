{
 "cells": [
  {
   "cell_type": "code",
   "execution_count": 1,
   "metadata": {
    "scrolled": true
   },
   "outputs": [],
   "source": [
    "import tabula\n",
    "import numpy as np\n",
    "#Read pdf into list of DataFrame\n",
    "        \n",
    "    \n",
    "def replace_characters(x):\n",
    "    try: \n",
    "        return x.replace('\\r', ' ').replace('\\n', ' ').replace('$', ' ').replace(\".\",\"\",x.count(\".\") - 1).strip()\n",
    "    except AttributeError:\n",
    "        return np.NaN\n",
    "\n",
    "def processRemuneracionMensualPorPuesto2020_2(file,outputfile,fecha):\n",
    "    pages = tabula.read_pdf(file, pages='all')\n",
    "    for index, page in enumerate(pages):\n",
    "        page_data = page\n",
    "        #Remove header\n",
    "        #page_data = page.loc[1:]\n",
    "        # Check if it is the last page. If it is last page, remove last rows (the last rows does not hold any valuable data)\n",
    "        maxFilas = page_data.shape[0]\n",
    "        if index == (len(pages)-1):\n",
    "            if maxFilas >= 7:\n",
    "                page_data = page_data[0:maxFilas-7]\n",
    "                                    \n",
    "        # Clean the data\n",
    "        if not page_data.empty or maxFilas>=7:\n",
    "            columns = page_data.columns\n",
    "            for column in columns:\n",
    "                page_data[column] = page_data[column].apply(lambda x : replace_characters(x))\n",
    "\n",
    "            #page_data = page_data.drop([columns[0]], axis=1)\n",
    "            page_data = page_data.dropna(axis=0,how='all')\n",
    "            #page_data = page_data.dropna(axis=1,how='all')\n",
    "            print(fecha + ' ' + str(len(page_data.columns)))\n",
    "            page_data.insert(0, 'fecha', fecha)\n",
    "            #page_data = page_data[page_data != 'Ingresos adicionales' or page_data != 'Total ingresos adicionales']\n",
    "            #Remove header\n",
    "            page_data.to_csv(outputfile,mode='a',index = False, header=False)\n",
    "            "
   ]
  },
  {
   "cell_type": "code",
   "execution_count": 2,
   "metadata": {
    "scrolled": true
   },
   "outputs": [],
   "source": [
    "import os\n",
    "\n",
    "path = './hagp'\n",
    "\n",
    "files = []\n",
    "# r=root, d=directories, f = files\n",
    "filesDict = {}\n",
    "for r, d, f in os.walk(path):\n",
    "    if len(d):\n",
    "         #filesDict = {'2017':{},'2018':{}}\n",
    "        for directory in d:\n",
    "            filesDict[directory] = {}\n",
    "    for file in f:\n",
    "        if '.pdf' in file:\n",
    "            #\"remuneracion_mensual-FEBRERO-2020.pdf\"\n",
    "            if file.startswith(\"remuneracion_mensual\"):\n",
    "                #remuneracion_mensual-FEBRERO-2020 -> \n",
    "                # [remuneracion_mensual,FEBRERO,2020]\n",
    "                data = file.replace(\".pdf\",\"\").split(\"-\");\n",
    "                filesDict[data[2]][data[1]] = os.path.join(r, file)\n",
    "                "
   ]
  },
  {
   "cell_type": "code",
   "execution_count": null,
   "metadata": {},
   "outputs": [],
   "source": [
    "key = '2018'\n",
    "output = 'remuneracion_mensual-'+key+'.csv'\n",
    "year = filesDict[key]\n",
    "for key2 in year:\n",
    "        fecha = key+'-'+key2+'-01'\n",
    "        month = year[key2]\n",
    "        print(fecha)\n",
    "        processRemuneracionMensualPorPuesto2020_2(month,output, fecha);"
   ]
  },
  {
   "cell_type": "code",
   "execution_count": null,
   "metadata": {},
   "outputs": [],
   "source": []
  },
  {
   "cell_type": "code",
   "execution_count": null,
   "metadata": {},
   "outputs": [],
   "source": []
  },
  {
   "cell_type": "code",
   "execution_count": null,
   "metadata": {},
   "outputs": [],
   "source": [
    "for key in filesDict:\n",
    "    output = 'remuneracion_mensual-'+key+'.csv'\n",
    "    year = filesDict[key]\n",
    "    for key2 in year:\n",
    "        fecha = key+'-'+key2+'-01'\n",
    "        month = year[key2]\n",
    "        print(fecha)\n",
    "        processRemuneracionMensualPorPuesto2020_2(month,output, fecha);"
   ]
  },
  {
   "cell_type": "code",
   "execution_count": null,
   "metadata": {},
   "outputs": [],
   "source": [
    "import pandas as pd\n",
    "import numpy as np\n",
    "dataframe = pd.read_csv(\"remuneracion_mensual-2020-clean.csv\", header = 0)\n",
    "cedulas = dataframe.Cedula.unique();\n",
    "cedulas = cedulas[np.logical_not(np.isnan(cedulas))]"
   ]
  },
  {
   "cell_type": "code",
   "execution_count": 8,
   "metadata": {},
   "outputs": [
    {
     "name": "stdout",
     "output_type": "stream",
     "text": [
      "['remuneracion_mensual-2019-clean.csv', 'remuneracion_mensual-2018-clean.csv', 'remuneracion_mensual-2020-clean.csv', 'remuneracion_mensual-2017-clean.csv']\n"
     ]
    }
   ],
   "source": []
  },
  {
   "cell_type": "code",
   "execution_count": 9,
   "metadata": {},
   "outputs": [
    {
     "name": "stdout",
     "output_type": "stream",
     "text": [
      "2144\n"
     ]
    }
   ],
   "source": []
  },
  {
   "cell_type": "code",
   "execution_count": 3,
   "metadata": {},
   "outputs": [
    {
     "name": "stdout",
     "output_type": "stream",
     "text": [
      "2016-OCTUBRE-01\n",
      "2016-OCTUBRE-01 13\n",
      "2016-OCTUBRE-01 13\n",
      "2016-OCTUBRE-01 13\n",
      "2016-OCTUBRE-01 13\n",
      "2016-OCTUBRE-01 13\n",
      "2016-OCTUBRE-01 13\n",
      "2016-OCTUBRE-01 13\n",
      "2016-OCTUBRE-01 13\n",
      "2016-OCTUBRE-01 13\n",
      "2016-OCTUBRE-01 13\n",
      "2016-OCTUBRE-01 13\n",
      "2016-OCTUBRE-01 13\n",
      "2016-OCTUBRE-01 13\n",
      "2016-OCTUBRE-01 13\n",
      "2016-OCTUBRE-01 13\n",
      "2016-OCTUBRE-01 13\n",
      "2016-OCTUBRE-01 13\n",
      "2016-OCTUBRE-01 13\n",
      "2016-OCTUBRE-01 13\n",
      "2016-OCTUBRE-01 13\n",
      "2016-OCTUBRE-01 13\n",
      "2016-OCTUBRE-01 13\n",
      "2016-OCTUBRE-01 13\n",
      "2016-OCTUBRE-01 13\n",
      "2016-OCTUBRE-01 13\n",
      "2016-OCTUBRE-01 13\n",
      "2016-OCTUBRE-01 13\n",
      "2016-OCTUBRE-01 13\n",
      "2016-AGOSTO-01\n",
      "2016-AGOSTO-01 13\n",
      "2016-AGOSTO-01 13\n",
      "2016-AGOSTO-01 13\n",
      "2016-AGOSTO-01 13\n",
      "2016-AGOSTO-01 13\n",
      "2016-AGOSTO-01 13\n",
      "2016-AGOSTO-01 13\n",
      "2016-AGOSTO-01 13\n",
      "2016-AGOSTO-01 13\n",
      "2016-AGOSTO-01 13\n",
      "2016-AGOSTO-01 13\n",
      "2016-AGOSTO-01 13\n",
      "2016-AGOSTO-01 13\n",
      "2016-AGOSTO-01 13\n",
      "2016-AGOSTO-01 13\n",
      "2016-AGOSTO-01 13\n",
      "2016-AGOSTO-01 13\n",
      "2016-AGOSTO-01 13\n",
      "2016-AGOSTO-01 13\n",
      "2016-AGOSTO-01 13\n",
      "2016-AGOSTO-01 13\n",
      "2016-AGOSTO-01 13\n",
      "2016-AGOSTO-01 13\n",
      "2016-AGOSTO-01 13\n",
      "2016-AGOSTO-01 13\n",
      "2016-AGOSTO-01 13\n",
      "2016-AGOSTO-01 13\n",
      "2016-AGOSTO-01 13\n",
      "2016-MARZO-01\n"
     ]
    },
    {
     "name": "stderr",
     "output_type": "stream",
     "text": [
      "<ipython-input-1-5e0f83906d2b>:28: SettingWithCopyWarning: \n",
      "A value is trying to be set on a copy of a slice from a DataFrame.\n",
      "Try using .loc[row_indexer,col_indexer] = value instead\n",
      "\n",
      "See the caveats in the documentation: https://pandas.pydata.org/pandas-docs/stable/user_guide/indexing.html#returning-a-view-versus-a-copy\n",
      "  page_data[column] = page_data[column].apply(lambda x : replace_characters(x))\n"
     ]
    },
    {
     "name": "stdout",
     "output_type": "stream",
     "text": [
      "2016-MARZO-01 13\n",
      "2016-MARZO-01 13\n",
      "2016-MARZO-01 13\n",
      "2016-MARZO-01 13\n",
      "2016-MARZO-01 13\n",
      "2016-MARZO-01 13\n",
      "2016-MARZO-01 13\n",
      "2016-MARZO-01 13\n",
      "2016-MARZO-01 13\n",
      "2016-MARZO-01 13\n",
      "2016-MARZO-01 13\n",
      "2016-MARZO-01 13\n",
      "2016-MARZO-01 13\n",
      "2016-MARZO-01 13\n",
      "2016-MARZO-01 13\n",
      "2016-MARZO-01 13\n",
      "2016-MARZO-01 13\n",
      "2016-MARZO-01 13"
     ]
    },
    {
     "name": "stderr",
     "output_type": "stream",
     "text": [
      "<ipython-input-1-5e0f83906d2b>:28: SettingWithCopyWarning: \n",
      "A value is trying to be set on a copy of a slice from a DataFrame.\n",
      "Try using .loc[row_indexer,col_indexer] = value instead\n",
      "\n",
      "See the caveats in the documentation: https://pandas.pydata.org/pandas-docs/stable/user_guide/indexing.html#returning-a-view-versus-a-copy\n",
      "  page_data[column] = page_data[column].apply(lambda x : replace_characters(x))\n"
     ]
    },
    {
     "name": "stdout",
     "output_type": "stream",
     "text": [
      "\n",
      "2016-DICIEMBRE-01\n",
      "2016-DICIEMBRE-01 13\n",
      "2016-DICIEMBRE-01 13\n",
      "2016-DICIEMBRE-01 13\n",
      "2016-DICIEMBRE-01 13\n",
      "2016-DICIEMBRE-01 13\n",
      "2016-DICIEMBRE-01 13\n",
      "2016-DICIEMBRE-01 13\n",
      "2016-DICIEMBRE-01 13\n",
      "2016-DICIEMBRE-01 13\n",
      "2016-DICIEMBRE-01 13\n",
      "2016-DICIEMBRE-01 13\n",
      "2016-DICIEMBRE-01 13\n",
      "2016-DICIEMBRE-01 13\n",
      "2016-DICIEMBRE-01 13\n",
      "2016-DICIEMBRE-01 13\n",
      "2016-DICIEMBRE-01 13\n",
      "2016-DICIEMBRE-01 13\n",
      "2016-DICIEMBRE-01 13\n",
      "2016-DICIEMBRE-01 13\n",
      "2016-DICIEMBRE-01 13\n",
      "2016-DICIEMBRE-01 13\n",
      "2016-DICIEMBRE-01 13\n",
      "2016-DICIEMBRE-01 13\n",
      "2016-DICIEMBRE-01 13\n",
      "2016-DICIEMBRE-01 13\n",
      "2016-DICIEMBRE-01 13\n",
      "2016-DICIEMBRE-01 13\n",
      "2016-DICIEMBRE-01 13\n",
      "2016-MAYO-01\n"
     ]
    },
    {
     "name": "stderr",
     "output_type": "stream",
     "text": [
      "<ipython-input-1-5e0f83906d2b>:28: SettingWithCopyWarning: \n",
      "A value is trying to be set on a copy of a slice from a DataFrame.\n",
      "Try using .loc[row_indexer,col_indexer] = value instead\n",
      "\n",
      "See the caveats in the documentation: https://pandas.pydata.org/pandas-docs/stable/user_guide/indexing.html#returning-a-view-versus-a-copy\n",
      "  page_data[column] = page_data[column].apply(lambda x : replace_characters(x))\n"
     ]
    },
    {
     "name": "stdout",
     "output_type": "stream",
     "text": [
      "2016-MAYO-01 13\n",
      "2016-MAYO-01 13\n",
      "2016-MAYO-01 13\n",
      "2016-MAYO-01 13\n",
      "2016-MAYO-01 13\n",
      "2016-MAYO-01 13\n",
      "2016-MAYO-01 13\n",
      "2016-MAYO-01 13\n",
      "2016-MAYO-01 13\n",
      "2016-MAYO-01 13\n",
      "2016-MAYO-01 13\n",
      "2016-MAYO-01 13\n",
      "2016-MAYO-01 13\n",
      "2016-MAYO-01 13\n",
      "2016-MAYO-01 13\n",
      "2016-MAYO-01 13\n",
      "2016-MAYO-01 13\n",
      "2016-MAYO-01 13\n",
      "2016-MAYO-01 13\n",
      "2016-MAYO-01 13\n",
      "2016-MAYO-01 13\n",
      "2016-MAYO-01 13\n",
      "2016-MAYO-01 13\n",
      "2016-MAYO-01 13\n",
      "2016-MAYO-01 13\n",
      "2016-MAYO-01 13\n",
      "2016-MAYO-01 13\n",
      "2016-MAYO-01 13\n",
      "2016-MAYO-01 13\n",
      "2016-MAYO-01 13\n",
      "2016-JUNIO-01\n"
     ]
    },
    {
     "name": "stderr",
     "output_type": "stream",
     "text": [
      "<ipython-input-1-5e0f83906d2b>:28: SettingWithCopyWarning: \n",
      "A value is trying to be set on a copy of a slice from a DataFrame.\n",
      "Try using .loc[row_indexer,col_indexer] = value instead\n",
      "\n",
      "See the caveats in the documentation: https://pandas.pydata.org/pandas-docs/stable/user_guide/indexing.html#returning-a-view-versus-a-copy\n",
      "  page_data[column] = page_data[column].apply(lambda x : replace_characters(x))\n"
     ]
    },
    {
     "name": "stdout",
     "output_type": "stream",
     "text": [
      "2016-JUNIO-01 13\n",
      "2016-JUNIO-01 13\n",
      "2016-JUNIO-01 13\n",
      "2016-JUNIO-01 13\n",
      "2016-JUNIO-01 13\n",
      "2016-JUNIO-01 13\n",
      "2016-JUNIO-01 13\n",
      "2016-JUNIO-01 13\n",
      "2016-JUNIO-01 13\n",
      "2016-JUNIO-01 13\n",
      "2016-JUNIO-01 13\n",
      "2016-JUNIO-01 13\n",
      "2016-JUNIO-01 13\n",
      "2016-JUNIO-01 13\n",
      "2016-JUNIO-01 13\n",
      "2016-JUNIO-01 13\n",
      "2016-JUNIO-01 13\n",
      "2016-JUNIO-01 13\n",
      "2016-JUNIO-01 13\n",
      "2016-JUNIO-01 13\n",
      "2016-JUNIO-01 13\n",
      "2016-JUNIO-01 13\n",
      "2016-JUNIO-01 13\n",
      "2016-JUNIO-01 13\n",
      "2016-JUNIO-01 13\n",
      "2016-JUNIO-01 13\n",
      "2016-JUNIO-01 13\n",
      "2016-JUNIO-01 13\n",
      "2016-JUNIO-01 13\n",
      "2016-JUNIO-01 13\n",
      "2016-ENERO-01\n"
     ]
    },
    {
     "name": "stderr",
     "output_type": "stream",
     "text": [
      "<ipython-input-1-5e0f83906d2b>:28: SettingWithCopyWarning: \n",
      "A value is trying to be set on a copy of a slice from a DataFrame.\n",
      "Try using .loc[row_indexer,col_indexer] = value instead\n",
      "\n",
      "See the caveats in the documentation: https://pandas.pydata.org/pandas-docs/stable/user_guide/indexing.html#returning-a-view-versus-a-copy\n",
      "  page_data[column] = page_data[column].apply(lambda x : replace_characters(x))\n"
     ]
    },
    {
     "name": "stdout",
     "output_type": "stream",
     "text": [
      "2016-ENERO-01 11\n",
      "2016-ENERO-01 11\n",
      "2016-ENERO-01 11\n",
      "2016-ENERO-01 11\n",
      "2016-ENERO-01 11\n",
      "2016-ENERO-01 11\n",
      "2016-ENERO-01 11\n",
      "2016-ENERO-01 11\n",
      "2016-ENERO-01 11\n",
      "2016-ENERO-01 11\n",
      "2016-ENERO-01 11\n",
      "2016-ENERO-01 11\n",
      "2016-ENERO-01 11\n",
      "2016-ENERO-01 11\n",
      "2016-ENERO-01 11\n",
      "2016-ENERO-01 11\n",
      "2016-ENERO-01 11\n",
      "2016-ENERO-01 11\n",
      "2016-ENERO-01 11\n",
      "2016-ENERO-01 11\n",
      "2016-ENERO-01 11\n",
      "2016-ENERO-01 2\n",
      "2016-ENERO-01 2\n",
      "2016-ENERO-01 2\n",
      "2016-ENERO-01 2\n",
      "2016-ENERO-01 2\n",
      "2016-ENERO-01 2\n",
      "2016-ENERO-01 2\n",
      "2016-ENERO-01 2\n",
      "2016-ENERO-01 2\n",
      "2016-ENERO-01 2\n",
      "2016-ENERO-01 2\n",
      "2016-ENERO-01 2\n",
      "2016-ENERO-01 2\n",
      "2016-ENERO-01 2\n",
      "2016-ENERO-01 2\n",
      "2016-ENERO-01 2\n",
      "2016-ENERO-01 2\n",
      "2016-ENERO-01 2\n",
      "2016-ENERO-01 2\n",
      "2016-ENERO-01 2\n",
      "2016-ENERO-01 3\n",
      "2016-NOVIEMBRE-01\n"
     ]
    },
    {
     "name": "stderr",
     "output_type": "stream",
     "text": [
      "<ipython-input-1-5e0f83906d2b>:28: SettingWithCopyWarning: \n",
      "A value is trying to be set on a copy of a slice from a DataFrame.\n",
      "Try using .loc[row_indexer,col_indexer] = value instead\n",
      "\n",
      "See the caveats in the documentation: https://pandas.pydata.org/pandas-docs/stable/user_guide/indexing.html#returning-a-view-versus-a-copy\n",
      "  page_data[column] = page_data[column].apply(lambda x : replace_characters(x))\n"
     ]
    },
    {
     "name": "stdout",
     "output_type": "stream",
     "text": [
      "2016-NOVIEMBRE-01 13\n",
      "2016-NOVIEMBRE-01 13\n",
      "2016-NOVIEMBRE-01 13\n",
      "2016-NOVIEMBRE-01 13\n",
      "2016-NOVIEMBRE-01 13\n",
      "2016-NOVIEMBRE-01 13\n",
      "2016-NOVIEMBRE-01 13\n",
      "2016-NOVIEMBRE-01 13\n",
      "2016-NOVIEMBRE-01 13\n",
      "2016-NOVIEMBRE-01 13\n",
      "2016-NOVIEMBRE-01 13\n",
      "2016-NOVIEMBRE-01 13\n",
      "2016-NOVIEMBRE-01 13\n",
      "2016-NOVIEMBRE-01 13\n",
      "2016-NOVIEMBRE-01 13\n",
      "2016-NOVIEMBRE-01 13\n",
      "2016-NOVIEMBRE-01 13\n",
      "2016-NOVIEMBRE-01 13\n",
      "2016-NOVIEMBRE-01 13\n",
      "2016-NOVIEMBRE-01 13\n",
      "2016-NOVIEMBRE-01 13\n",
      "2016-NOVIEMBRE-01 13\n",
      "2016-NOVIEMBRE-01 13\n",
      "2016-NOVIEMBRE-01 13\n",
      "2016-NOVIEMBRE-01 13\n",
      "2016-NOVIEMBRE-01 13\n",
      "2016-NOVIEMBRE-01 13\n",
      "2016-NOVIEMBRE-01 13\n",
      "2016-ABRIL-01\n"
     ]
    },
    {
     "name": "stderr",
     "output_type": "stream",
     "text": [
      "<ipython-input-1-5e0f83906d2b>:28: SettingWithCopyWarning: \n",
      "A value is trying to be set on a copy of a slice from a DataFrame.\n",
      "Try using .loc[row_indexer,col_indexer] = value instead\n",
      "\n",
      "See the caveats in the documentation: https://pandas.pydata.org/pandas-docs/stable/user_guide/indexing.html#returning-a-view-versus-a-copy\n",
      "  page_data[column] = page_data[column].apply(lambda x : replace_characters(x))\n"
     ]
    },
    {
     "name": "stdout",
     "output_type": "stream",
     "text": [
      "2016-ABRIL-01 6\n",
      "2016-ABRIL-01 5\n",
      "2016-ABRIL-01 5\n",
      "2016-ABRIL-01 5\n",
      "2016-ABRIL-01 5\n",
      "2016-ABRIL-01 5\n",
      "2016-ABRIL-01 5\n",
      "2016-ABRIL-01 5\n",
      "2016-ABRIL-01 5\n",
      "2016-ABRIL-01 5\n",
      "2016-ABRIL-01 5\n",
      "2016-ABRIL-01 5\n",
      "2016-ABRIL-01 5\n",
      "2016-ABRIL-01 5\n",
      "2016-ABRIL-01 5\n",
      "2016-ABRIL-01 5\n",
      "2016-ABRIL-01 5\n",
      "2016-ABRIL-01 6\n",
      "2016-ABRIL-01 5\n",
      "2016-ABRIL-01 5\n",
      "2016-SEPTIEMBRE-01\n"
     ]
    },
    {
     "name": "stderr",
     "output_type": "stream",
     "text": [
      "<ipython-input-1-5e0f83906d2b>:28: SettingWithCopyWarning: \n",
      "A value is trying to be set on a copy of a slice from a DataFrame.\n",
      "Try using .loc[row_indexer,col_indexer] = value instead\n",
      "\n",
      "See the caveats in the documentation: https://pandas.pydata.org/pandas-docs/stable/user_guide/indexing.html#returning-a-view-versus-a-copy\n",
      "  page_data[column] = page_data[column].apply(lambda x : replace_characters(x))\n"
     ]
    },
    {
     "name": "stdout",
     "output_type": "stream",
     "text": [
      "2016-SEPTIEMBRE-01 13\n",
      "2016-SEPTIEMBRE-01 13\n",
      "2016-SEPTIEMBRE-01 13\n",
      "2016-SEPTIEMBRE-01 13\n",
      "2016-SEPTIEMBRE-01 13\n",
      "2016-SEPTIEMBRE-01 13\n",
      "2016-SEPTIEMBRE-01 13\n",
      "2016-SEPTIEMBRE-01 13\n",
      "2016-SEPTIEMBRE-01 13\n",
      "2016-SEPTIEMBRE-01 13\n",
      "2016-SEPTIEMBRE-01 13\n",
      "2016-SEPTIEMBRE-01 13\n",
      "2016-SEPTIEMBRE-01 13\n",
      "2016-SEPTIEMBRE-01 13\n",
      "2016-SEPTIEMBRE-01 13\n",
      "2016-SEPTIEMBRE-01 13\n",
      "2016-SEPTIEMBRE-01 13\n",
      "2016-SEPTIEMBRE-01 13\n",
      "2016-SEPTIEMBRE-01 13\n",
      "2016-SEPTIEMBRE-01 13\n",
      "2016-SEPTIEMBRE-01 13\n",
      "2016-SEPTIEMBRE-01 13\n",
      "2016-SEPTIEMBRE-01 13\n",
      "2016-SEPTIEMBRE-01 13\n",
      "2016-SEPTIEMBRE-01 13\n",
      "2016-SEPTIEMBRE-01 13\n",
      "2016-SEPTIEMBRE-01 13\n",
      "2016-SEPTIEMBRE-01 13\n",
      "2016-JULIO-01\n"
     ]
    },
    {
     "name": "stderr",
     "output_type": "stream",
     "text": [
      "<ipython-input-1-5e0f83906d2b>:28: SettingWithCopyWarning: \n",
      "A value is trying to be set on a copy of a slice from a DataFrame.\n",
      "Try using .loc[row_indexer,col_indexer] = value instead\n",
      "\n",
      "See the caveats in the documentation: https://pandas.pydata.org/pandas-docs/stable/user_guide/indexing.html#returning-a-view-versus-a-copy\n",
      "  page_data[column] = page_data[column].apply(lambda x : replace_characters(x))\n"
     ]
    },
    {
     "name": "stdout",
     "output_type": "stream",
     "text": [
      "2016-JULIO-01 13\n",
      "2016-JULIO-01 13\n",
      "2016-JULIO-01 13\n",
      "2016-JULIO-01 13\n",
      "2016-JULIO-01 13\n",
      "2016-JULIO-01 13\n",
      "2016-JULIO-01 13\n",
      "2016-JULIO-01 13\n",
      "2016-JULIO-01 13\n",
      "2016-JULIO-01 13\n",
      "2016-JULIO-01 13\n",
      "2016-JULIO-01 13\n",
      "2016-JULIO-01 13\n",
      "2016-JULIO-01 13\n",
      "2016-JULIO-01 13\n",
      "2016-JULIO-01 13\n",
      "2016-JULIO-01 13\n",
      "2016-JULIO-01 13\n",
      "2016-JULIO-01 13\n",
      "2016-JULIO-01 13\n",
      "2016-JULIO-01 13\n",
      "2016-JULIO-01 13\n",
      "2016-JULIO-01 13\n",
      "2016-JULIO-01 13\n",
      "2016-JULIO-01 13\n",
      "2016-JULIO-01 13\n",
      "2016-JULIO-01 13\n",
      "2016-JULIO-01 13\n",
      "2016-JULIO-01 13\n",
      "2016-FEBRERO-01\n"
     ]
    },
    {
     "name": "stderr",
     "output_type": "stream",
     "text": [
      "<ipython-input-1-5e0f83906d2b>:28: SettingWithCopyWarning: \n",
      "A value is trying to be set on a copy of a slice from a DataFrame.\n",
      "Try using .loc[row_indexer,col_indexer] = value instead\n",
      "\n",
      "See the caveats in the documentation: https://pandas.pydata.org/pandas-docs/stable/user_guide/indexing.html#returning-a-view-versus-a-copy\n",
      "  page_data[column] = page_data[column].apply(lambda x : replace_characters(x))\n"
     ]
    },
    {
     "name": "stdout",
     "output_type": "stream",
     "text": [
      "2016-FEBRERO-01 13\n",
      "2016-FEBRERO-01 13\n",
      "2016-FEBRERO-01 13\n",
      "2016-FEBRERO-01 13\n",
      "2016-FEBRERO-01 13\n",
      "2016-FEBRERO-01 13\n",
      "2016-FEBRERO-01 13\n",
      "2016-FEBRERO-01 13\n",
      "2016-FEBRERO-01 13\n",
      "2016-FEBRERO-01 13\n",
      "2016-FEBRERO-01 13\n",
      "2016-FEBRERO-01 13\n",
      "2016-FEBRERO-01 13\n",
      "2016-FEBRERO-01 13\n",
      "2016-FEBRERO-01 13\n",
      "2016-FEBRERO-01 13\n",
      "2016-FEBRERO-01 13\n",
      "2016-FEBRERO-01 2\n"
     ]
    }
   ],
   "source": [
    "key = '2016'\n",
    "output = 'remuneracion_mensual-'+key+'.csv'\n",
    "year = filesDict[key]\n",
    "for key2 in year:\n",
    "        fecha = key+'-'+key2+'-01'\n",
    "        month = year[key2]\n",
    "        print(fecha)\n",
    "        processRemuneracionMensualPorPuesto2020_2(month,output, fecha);"
   ]
  },
  {
   "cell_type": "code",
   "execution_count": null,
   "metadata": {},
   "outputs": [],
   "source": []
  }
 ],
 "metadata": {
  "kernelspec": {
   "display_name": "Python 3",
   "language": "python",
   "name": "python3"
  },
  "language_info": {
   "codemirror_mode": {
    "name": "ipython",
    "version": 3
   },
   "file_extension": ".py",
   "mimetype": "text/x-python",
   "name": "python",
   "nbconvert_exporter": "python",
   "pygments_lexer": "ipython3",
   "version": "3.8.3"
  }
 },
 "nbformat": 4,
 "nbformat_minor": 4
}
