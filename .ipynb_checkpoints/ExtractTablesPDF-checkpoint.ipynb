{
 "cells": [
  {
   "cell_type": "code",
   "execution_count": null,
   "metadata": {},
   "outputs": [],
   "source": [
    "import tabula\n",
    "\n",
    "#Read pdf into list of DataFrame\n",
    "pages = tabula.read_pdf(\"distributivo_de_personal_enero_2020.pdf\", pages='all')\n",
    "for index, page in enumerate(pages):\n",
    "    # Remove 3 first rows from file they do not have valid data\n",
    "    page_data = page.loc[3:]\n",
    "    # Take only columns with data\n",
    "    columns_range = page_data.columns[1:5]\n",
    "    # Get final data table with correct rows and columns\n",
    "    clean_page = page_data.loc[:,columns_range]\n",
    "    # Get first column\n",
    "    firstColumn = clean_page[clean_page.columns[0]];\n",
    "    # Remove all NaN values from table\n",
    "    final_page = clean_page[firstColumn.notna()].dropna()\n",
    "    # If it is the first page we need to add headers\n",
    "    if index == 0 : \n",
    "        final_page.to_csv('distributivo_de_personal_enero_2020.csv',mode='a',index = False, header= ['EMPLOYEE','DEPARTMENT','EMPLOYEE','ROLE'])\n",
    "    else :\n",
    "        final_page.to_csv('distributivo_de_personal_enero_2020.csv',mode='a',index = False, header= False)"
   ]
  },
  {
   "cell_type": "code",
   "execution_count": 2,
   "metadata": {
    "scrolled": true
   },
   "outputs": [],
   "source": [
    "import tabula\n",
    "\n",
    "outputFileName = 'remuneracion_mensual_por_puesto.csv';\n",
    "#Read pdf into list of DataFrame\n",
    "pages = tabula.read_pdf(\"remuneracion_mensual_por_puesto.pdf\", pages='all')\n",
    "for index, page in enumerate(pages):\n",
    "    \n",
    "    #Remove header\n",
    "    page_data = page.loc[1:]\n",
    "    \n",
    "    # Check if it is the last page. If it is last page, remove last rows (the last rows does not hold any valuable data)\n",
    "    if index == (len(pages)-1):\n",
    "        maxFilas = page_data.shape[0]\n",
    "        page_data = page_data[0:maxFilas-6].dropna(1)\n",
    "\n",
    "    # Drop all the columns that does not have valid data\n",
    "    page_data = page_data.dropna(axis=1)\n",
    "    \n",
    "    # Clean the data\n",
    "    columns = page_data.columns\n",
    "    page_data[columns[2]] = page_data[columns[2]].apply(lambda x : x.replace(\"\\r\", \" \"))\n",
    "    page_data[columns[3]] = page_data[columns[3]].apply(lambda x : x.replace(\"\\r\", \" \"))\n",
    "    page_data[columns[5]] = page_data[columns[5]].apply(lambda x : x.replace(\"\\r\", \" \"))\n",
    "    page_data[columns[6]] = page_data[columns[6]].apply(lambda x : x.replace(\"$\", \"\").replace(\".\",\"\",x.count(\".\") - 1).strip())\n",
    "    page_data[columns[7]] = page_data[columns[7]].apply(lambda x : x.replace(\"$\", \"\").replace(\".\",\"\",x.count(\".\") - 1).strip())\n",
    "    page_data[columns[8]] = page_data[columns[8]].apply(lambda x : x.replace(\"$\", \"\").strip())\n",
    "    page_data[columns[9]] = page_data[columns[9]].apply(lambda x : x.replace(\"$\", \"\").strip())\n",
    "    page_data[columns[10]] = page_data[columns[10]].apply(lambda x : x.replace(\"$\", \"\").strip())\n",
    "    page_data = page_data.drop([columns[0], columns[4]], axis=1)\n",
    "    page_data.insert(0, 'fecha', '2020-01-01') \n",
    "    if index == 0 :\n",
    "        page_data.to_csv(outputFileName,mode='w',index = False, header= ['Fecha',\n",
    "                                                                         'Empleado',\n",
    "                                                                         'CARGO',\n",
    "                                                                         'Regimen laboral',\n",
    "                                                                        'Grado jerárquico',\n",
    "                                                                        'Remuneración mensual',\n",
    "                                                                        'Remuneración unificada (anual)',\n",
    "                                                                        'Décimo Tercera Remuneración',\n",
    "                                                                        'Décima Cuarta Remuneración',\n",
    "                                                                        'Horas suplementarias y extraordinarias'])\n",
    "    else :\n",
    "        page_data.to_csv(outputFileName,mode='a',index = False, header=False)"
   ]
  },
  {
   "cell_type": "code",
   "execution_count": null,
   "metadata": {},
   "outputs": [],
   "source": [
    "import os\n",
    "arr = os.listdir()\n",
    "print(arr)"
   ]
  },
  {
   "cell_type": "code",
   "execution_count": null,
   "metadata": {},
   "outputs": [],
   "source": []
  }
 ],
 "metadata": {
  "kernelspec": {
   "display_name": "Python 3",
   "language": "python",
   "name": "python3"
  },
  "language_info": {
   "codemirror_mode": {
    "name": "ipython",
    "version": 3
   },
   "file_extension": ".py",
   "mimetype": "text/x-python",
   "name": "python",
   "nbconvert_exporter": "python",
   "pygments_lexer": "ipython3",
   "version": "3.8.3"
  }
 },
 "nbformat": 4,
 "nbformat_minor": 4
}
